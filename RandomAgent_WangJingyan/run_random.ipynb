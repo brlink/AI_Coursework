{
 "cells": [
  {
   "cell_type": "code",
   "execution_count": 3,
   "metadata": {},
   "outputs": [],
   "source": [
    "import sys\n",
    "import os\n",
    "import numpy as np\n",
    "import matplotlib.pyplot as plt\n",
    "import itertools\n",
    "\n",
    "sys.path.append(r\"..\")\n",
    "from random_agent import *\n",
    "from QlernNN_WangJingyan.q_learning_nn import *\n",
    "from QlernNN_WangJingyan.evaluation import *\n",
    "\n",
    "%matplotlib inline\n",
    "#import environment\n",
    "sys.path.append(r'../virl')\n",
    "import virl\n",
    "\n",
    "#import time\n",
    "import time\n",
    "from datetime import date"
   ]
  },
  {
   "cell_type": "markdown",
   "metadata": {},
   "source": [
    "## Training Phase"
   ]
  },
  {
   "cell_type": "code",
   "execution_count": 7,
   "metadata": {},
   "outputs": [
    {
     "output_type": "stream",
     "name": "stdout",
     "text": [
      "episode:1/2 score:52<class 'numpy.ndarray'>\n",
      "episode:1/2 score:52<class 'numpy.ndarray'>\n",
      "episode:1/2 score:52<class 'numpy.ndarray'>\n",
      "episode:1/2 score:52<class 'numpy.ndarray'>\n",
      "episode:1/2 score:52<class 'numpy.ndarray'>\n",
      "episode:1/2 score:52<class 'numpy.ndarray'>\n",
      "episode:1/2 score:52<class 'numpy.ndarray'>\n",
      "episode:1/2 score:52<class 'numpy.ndarray'>\n",
      "episode:1/2 score:52<class 'numpy.ndarray'>\n",
      "episode:1/2 score:52<class 'numpy.ndarray'>\n",
      "episode:1/2 score:52<class 'numpy.ndarray'>\n",
      "episode:1/2 score:52<class 'numpy.ndarray'>\n",
      "episode:1/2 score:52<class 'numpy.ndarray'>\n",
      "episode:1/2 score:52<class 'numpy.ndarray'>\n",
      "episode:1/2 score:52<class 'numpy.ndarray'>\n",
      "episode:1/2 score:52<class 'numpy.ndarray'>\n",
      "episode:1/2 score:52<class 'numpy.ndarray'>\n",
      "episode:1/2 score:52<class 'numpy.ndarray'>\n",
      "episode:1/2 score:52<class 'numpy.ndarray'>\n",
      "episode:1/2 score:52<class 'numpy.ndarray'>\n",
      "episode:1/2 score:52<class 'numpy.ndarray'>\n",
      "episode:1/2 score:52<class 'numpy.ndarray'>\n",
      "episode:1/2 score:52<class 'numpy.ndarray'>\n",
      "episode:1/2 score:52<class 'numpy.ndarray'>\n",
      "episode:1/2 score:52<class 'numpy.ndarray'>\n",
      "episode:1/2 score:52<class 'numpy.ndarray'>\n",
      "episode:1/2 score:52<class 'numpy.ndarray'>\n",
      "episode:1/2 score:52<class 'numpy.ndarray'>\n",
      "episode:1/2 score:52<class 'numpy.ndarray'>\n",
      "episode:1/2 score:52<class 'numpy.ndarray'>\n",
      "episode:1/2 score:52<class 'numpy.ndarray'>\n",
      "episode:1/2 score:52<class 'numpy.ndarray'>\n",
      "episode:1/2 score:52<class 'numpy.ndarray'>\n",
      "episode:1/2 score:52<class 'numpy.ndarray'>\n",
      "episode:1/2 score:52<class 'numpy.ndarray'>\n",
      "episode:1/2 score:52<class 'numpy.ndarray'>\n",
      "episode:1/2 score:52<class 'numpy.ndarray'>\n",
      "episode:1/2 score:52<class 'numpy.ndarray'>\n",
      "episode:1/2 score:52<class 'numpy.ndarray'>\n",
      "episode:1/2 score:52<class 'numpy.ndarray'>\n"
     ]
    }
   ],
   "source": [
    "num_episodes = 200\n",
    "for num_instance in range(10):\n",
    "\n",
    "    for s_n in range(4):\n",
    "        #set stochastic\n",
    "        stochastic = bool((s_n//2)%2)\n",
    "        noisy = bool(s_n%2) \n",
    "\n",
    "        env = virl.Epidemic(problem_id=num_instance, stochastic=stochastic, noisy=noisy)\n",
    "        stats = random_agent(env, num_episodes)\n",
    "\n",
    "        stats_storage = Stats_storage(stats)\n",
    "        save_variable(stats_storage, \"./data/stats_training/stats_train0{}_{}{}.dat\".format(num_instance, int(stochastic), int(noisy)))\n",
    "\n",
    "        #output log\n",
    "        t = time.localtime()\n",
    "        current_time = time.strftime(\"%H:%M:%S\", t)\n",
    "\n",
    "        date = date.today()\n",
    "        log = open(\"./data/training.log\", \"a\")\n",
    "        log.write(\"problem_id = {} with stochatstic={} and noisy={}finished training in {} {}\\n\".format(num_instance, stochastic, noisy, current_time, date))\n",
    "        log.close()"
   ]
  }
 ],
 "metadata": {
  "kernelspec": {
   "display_name": "Python 3",
   "language": "python",
   "name": "python3"
  },
  "language_info": {
   "codemirror_mode": {
    "name": "ipython",
    "version": 3
   },
   "file_extension": ".py",
   "mimetype": "text/x-python",
   "name": "python",
   "nbconvert_exporter": "python",
   "pygments_lexer": "ipython3",
   "version": "3.8.5-final"
  }
 },
 "nbformat": 4,
 "nbformat_minor": 4
}