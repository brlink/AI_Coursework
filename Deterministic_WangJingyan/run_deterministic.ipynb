{
 "metadata": {
  "language_info": {
   "codemirror_mode": {
    "name": "ipython",
    "version": 3
   },
   "file_extension": ".py",
   "mimetype": "text/x-python",
   "name": "python",
   "nbconvert_exporter": "python",
   "pygments_lexer": "ipython3",
   "version": "3.8.5-final"
  },
  "orig_nbformat": 2,
  "kernelspec": {
   "name": "Python 3.8.5 64-bit ('base': conda)",
   "display_name": "Python 3.8.5 64-bit ('base': conda)",
   "metadata": {
    "interpreter": {
     "hash": "c518c8e99d0ef11bb842f1c53dc2bfcb7a7768f75d27c7d1f38e4a4e12e41447"
    }
   }
  }
 },
 "nbformat": 4,
 "nbformat_minor": 2,
 "cells": [
  {
   "cell_type": "code",
   "execution_count": 3,
   "metadata": {},
   "outputs": [],
   "source": [
    "import sys\n",
    "import os\n",
    "import numpy as np\n",
    "import matplotlib.pyplot as plt\n",
    "import itertools\n",
    "\n",
    "sys.path.append(r\"..\")\n",
    "from deterministic_agent import *\n",
    "from QlernNN_WangJingyan.q_learning_nn import *\n",
    "from QlernNN_WangJingyan.evaluation import *\n",
    "\n",
    "%matplotlib inline\n",
    "#import environment\n",
    "sys.path.append(r'../virl')\n",
    "import virl\n",
    "\n",
    "#import time\n",
    "import time\n",
    "from datetime import date"
   ]
  },
  {
   "cell_type": "code",
   "execution_count": 4,
   "metadata": {},
   "outputs": [
    {
     "output_type": "stream",
     "name": "stdout",
     "text": [
      "episode:299/300 score:52"
     ]
    }
   ],
   "source": [
    "num_episodes = 300\n",
    "for num_instance in range(10):\n",
    "\n",
    "    for s_n in range(4):\n",
    "        #set stochastic\n",
    "        stochastic = bool((s_n//2)%2)\n",
    "        noisy = bool(s_n%2) \n",
    "\n",
    "        env = virl.Epidemic(problem_id=num_instance, stochastic=stochastic, noisy=noisy)\n",
    "        stats = deterministic_agent(env, num_episodes)\n",
    "\n",
    "        stats_storage = Stats_storage(stats)\n",
    "        save_variable(stats_storage, \"./data/stats_training/stats_train0{}_{}{}.dat\".format(num_instance, int(stochastic), int(noisy)))\n",
    "\n",
    "        #output log\n",
    "        t = time.localtime()\n",
    "        current_time = time.strftime(\"%H:%M:%S\", t)\n",
    "\n",
    "        date = date.today()\n",
    "        log = open(\"./data/training.log\", \"a\")\n",
    "        log.write(\"problem_id = {} with stochatstic={} and noisy={}finished training in {} {}\\n\".format(num_instance, stochastic, noisy, current_time, date))\n",
    "        log.close()"
   ]
  }
 ]
}